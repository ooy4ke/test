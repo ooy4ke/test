{
  "nbformat": 4,
  "nbformat_minor": 0,
  "metadata": {
    "colab": {
      "provenance": [],
      "authorship_tag": "ABX9TyMNNZsLFv3d3lla451BWjJ6",
      "include_colab_link": true
    },
    "kernelspec": {
      "name": "python3",
      "display_name": "Python 3"
    },
    "language_info": {
      "name": "python"
    }
  },
  "cells": [
    {
      "cell_type": "markdown",
      "metadata": {
        "id": "view-in-github",
        "colab_type": "text"
      },
      "source": [
        "<a href=\"https://colab.research.google.com/github/ooy4ke/test/blob/main/discord_py%E3%81%AE%E3%82%BD%E3%83%BC%E3%82%B9%E3%82%B3%E3%83%BC%E3%83%89.ipynb\" target=\"_parent\"><img src=\"https://colab.research.google.com/assets/colab-badge.svg\" alt=\"Open In Colab\"/></a>"
      ]
    },
    {
      "cell_type": "markdown",
      "source": [
        "#discord.pyのソースを読む\n",
        "##importについて\n",
        "以前作製したbot.pyの最初に`import discord`と入力したが、importとは何なのかについてまずはまとめます。  \n",
        "###importの使い方\n",
        "まずはimportの使い方ですが、大きく3つあります。\n",
        "1. モジュール全体をインポート\n",
        "\n",
        "\n",
        "```\n",
        "import モジュール名\n",
        "```\n",
        "\n",
        "2. モジュールから特定の要素をインポート\n",
        "\n",
        "\n",
        "\n",
        "```\n",
        "from モジュール名 import 要素名\n",
        "```\n",
        "\n",
        "3. エイリアスを使ってインポート\n",
        "\n",
        "\n",
        "```\n",
        "import モジュール名 as 別名\n",
        "```\n",
        "\n",
        "###importの検索システム\n",
        "\n",
        "Pythonのimport文は、検索パスに基づいてモジュールを見つけます。モジュールがどのディレクトリや場所にあるかをPythonが知る必要があります。\n",
        "1. カレントディレクトリ  \n",
        "Pythonはまず、実行中のスクリプト（または対話型セッション）のあるディレクトリを探します。そのディレクトリにモジュールが見つからない場合、次に述べる検索パスが使われます。\n",
        "\n",
        "2. 標準ライブラリディレクトリ  \n",
        "Pythonは標準ライブラリを格納するためのディレクトリを検索します。これはPythonのインストールに含まれているもので、通常は環境変数 sys.path で確認できます。\n",
        "\n",
        "3. サードパーティライブラリディレクトリ  \n",
        "通常、サードパーティのライブラリは標準ライブラリとは異なるディレクトリにインストールされます。これらのディレクトリも検索パスに含まれます。\n",
        "\n",
        "4. PYTHONPATH環境変数  \n",
        "PYTHONPATH 環境変数に指定されたディレクトリも検索パスに含まれます。この変数には、Pythonがモジュールを検索する追加のディレクトリを指定することができます。\n",
        "\n",
        "5. ビルトインモジュール  \n",
        "一部のモジュールはビルトインモジュールと呼ばれ、言語自体に組み込まれています。これらのモジュールは検索されずに直接使用できます。\n",
        "\n",
        "###検索パス\n",
        "\"パス\"（path）は、ファイルやディレクトリがファイルシステム上でどの位置にあるかを指定するための文字列です。パスは通常、階層構造を持つディレクトリ構造を表現します。ファイルシステムのツリー構造をたどるために使用されます。\n",
        "\n",
        "一般的なパスは、絶対パスと相対パスの二つの種類があります。\n",
        "\n",
        "絶対パス  \n",
        "ルートディレクトリから始まり、目的のファイルやディレクトリまでの完全な位置を示します。  \n",
        "Windowsでは「C:\\Users\\User\\Documents\\file.txt」のような形になります。\n",
        "\n",
        "相対パス  \n",
        "現在の作業ディレクトリからの相対的な位置を示します。  \n",
        "現在のディレクトリが「/home/user」である場合「documents/file.txt」のような相対パスは「/home/user/documents/file.txt」となります。相対パスは、現在の位置に対して相対的な位置を指定するため、コンテキストに依存します。\n",
        "\n",
        "\n",
        "##discord.pyのインストールされている場所\n",
        "discord.pyのインストールされている場所を探すには、先ほどのdiscord.pyがインストールできたか確認する際に行ったことをもう一度行えばよいです。下の内容をcmdに入力します。\n",
        "\n",
        "```\n",
        "python 3 -m pip show discord.py← Linuxの場合   \n",
        "py -3 -m pip show discord.py ← Windowsの場合\n",
        "```\n",
        "そして「Location」のところに保存されている場所が出るのでそれをコピーし、ファイルエクスプローラーを開いて検索すると出てきます。\n",
        "\n",
        "##discordのファイル\n",
        "これでimportするファイルの場所はわかりました。この後discordのファイルがどのように読み込まれていくかについてまとめます。  \n",
        "基本的に"
      ],
      "metadata": {
        "id": "YFxsTVe6JZQ5"
      }
    }
  ]
}