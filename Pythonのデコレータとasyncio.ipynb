{
  "nbformat": 4,
  "nbformat_minor": 0,
  "metadata": {
    "colab": {
      "provenance": [],
      "toc_visible": true,
      "authorship_tag": "ABX9TyOHh1FcsWcID+55bU9pQhTD",
      "include_colab_link": true
    },
    "kernelspec": {
      "name": "python3",
      "display_name": "Python 3"
    },
    "language_info": {
      "name": "python"
    }
  },
  "cells": [
    {
      "cell_type": "markdown",
      "metadata": {
        "id": "view-in-github",
        "colab_type": "text"
      },
      "source": [
        "<a href=\"https://colab.research.google.com/github/ooy4ke/test/blob/main/Python%E3%81%AE%E3%83%87%E3%82%B3%E3%83%AC%E3%83%BC%E3%82%BF%E3%81%A8asyncio.ipynb\" target=\"_parent\"><img src=\"https://colab.research.google.com/assets/colab-badge.svg\" alt=\"Open In Colab\"/></a>"
      ]
    },
    {
      "cell_type": "markdown",
      "source": [
        "#デコレータ\n",
        "デコレータは、Pythonの関数やメソッドの動作を簡単に修正、拡張するための構文です。デコレータは、既存の関数をラップして、その前後に追加の処理を挟むことができます。デコレータは関数を引数として受け取り、関数を返す関数です。  \n",
        "\n",
        "##基本的なデコレータの作成と使用\n",
        "基本的なデコレータの作成と使用\n",
        "デコレータの基本的な使い方を例で説明します。\n",
        "\n",
        "1. 基本的なデコレータの作成  \n",
        "まず、デコレータを作成します。デコレータは、関数を引数として受け取り、新しい関数（ラッパー関数）を返します。\n",
        "\n",
        "```\n",
        "def my_decorator(func):\n",
        "    def wrapper():\n",
        "        print(\"Something is happening before the function is called.\")\n",
        "        func()\n",
        "        print(\"Something is happening after the function is called.\")\n",
        "    return wrapper\n",
        "\n",
        "```\n",
        "\n",
        "2. デコレータの適用  \n",
        "次に、デコレータを関数に適用します。デコレータを適用するには、デコレータを適用する関数の上に @デコレータ名 を記述します。\n",
        "\n",
        "```\n",
        "@my_decorator\n",
        "def say_hello():\n",
        "    print(\"Hello!\")\n",
        "\n",
        "say_hello()\n",
        "\n",
        "```\n",
        "\n",
        "上記のコードを実行することで以下のように、関数 `say_hello` の前後に追加の処理を挟むことができます。\n",
        "\n",
        "\n",
        "```\n",
        "Something is happening before the function is called.\n",
        "Hello!\n",
        "Something is happening after the function is called.\n",
        "\n",
        "```\n",
        "\n",
        "##デコレータの仕組み\n",
        "デコレータの仕組みを以下のステップで説明します。\n",
        "\n",
        "1. `say_hello`関数にデコレータ`my_decorator`が適用されると、`say_hello`は`my_decorator`の引数`func`として渡されます。\n",
        "2. `my_decorator`は新しい関数 `wrapper`を返します。この`wrapper`関数が実際に呼び出される関数になります。\n",
        "3. `wrapper`関数内で、元の`func`が呼び出され、その前後に追加の処理が挟まれます。  \n",
        "\n",
        "\n",
        "このようにデコレータは、関数の前後に追加の処理を挟むための強力なツールです。次に、これをasyncioと組み合わせて非同期関数にも適用する方法を見ていきましょう。"
      ],
      "metadata": {
        "id": "gJ-x6SS_Jrxs"
      }
    }
  ]
}