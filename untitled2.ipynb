{
  "nbformat": 4,
  "nbformat_minor": 0,
  "metadata": {
    "colab": {
      "provenance": [],
      "authorship_tag": "ABX9TyN75bC7iNCv7er/uIljb4Wn",
      "include_colab_link": true
    },
    "kernelspec": {
      "name": "python3",
      "display_name": "Python 3"
    },
    "language_info": {
      "name": "python"
    }
  },
  "cells": [
    {
      "cell_type": "markdown",
      "metadata": {
        "id": "view-in-github",
        "colab_type": "text"
      },
      "source": [
        "<a href=\"https://colab.research.google.com/github/ooy4ke/test/blob/main/untitled2.ipynb\" target=\"_parent\"><img src=\"https://colab.research.google.com/assets/colab-badge.svg\" alt=\"Open In Colab\"/></a>"
      ]
    },
    {
      "cell_type": "markdown",
      "source": [
        "#Markdownのいろいろな使い方について\n",
        "##Markdownとは\n",
        "文章に見出しや箇条書きなど、文章に簡単に装飾を施すための記述法がMarkdownです。簡単な記述ルールに従って文章を作成するとHTMLへ変換され、装飾が施された文章が出来上がります。HTML（HyperText Markup Language）とは、WEBページを作成するための言語です。\n",
        "##Markdownの使い方\n",
        "###①見出し\n",
        "「#」を文頭につけることで見出しを作ることが出来ます。  \n",
        "「#」の個数で見出しの階層を作ることが出来ます。  \n",
        "#見出し１\n",
        "##見出し２\n",
        "###見出し３\n",
        "####見出し４\n",
        "と表示するには\n",
        "```\n",
        "#見出し１\n",
        "##見出し２\n",
        "###見出し３\n",
        "####見出し４\n",
        "```\n",
        "###②改行\n",
        "文末に半角スペースを二個入れると改行できます。  \n",
        "改  \n",
        "行  \n",
        "と表示するには下のようにするとできます。\n",
        "```\n",
        "改  \n",
        "行\n",
        "```\n",
        "###③"
      ],
      "metadata": {
        "id": "C3NzzaK291mU"
      }
    }
  ]
}