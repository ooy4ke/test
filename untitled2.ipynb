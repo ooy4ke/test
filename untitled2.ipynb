{
  "nbformat": 4,
  "nbformat_minor": 0,
  "metadata": {
    "colab": {
      "provenance": [],
      "authorship_tag": "ABX9TyNrdnZhIUpLh+9pp13ObSG4",
      "include_colab_link": true
    },
    "kernelspec": {
      "name": "python3",
      "display_name": "Python 3"
    },
    "language_info": {
      "name": "python"
    }
  },
  "cells": [
    {
      "cell_type": "markdown",
      "metadata": {
        "id": "view-in-github",
        "colab_type": "text"
      },
      "source": [
        "<a href=\"https://colab.research.google.com/github/ooy4ke/test/blob/main/untitled2.ipynb\" target=\"_parent\"><img src=\"https://colab.research.google.com/assets/colab-badge.svg\" alt=\"Open In Colab\"/></a>"
      ]
    },
    {
      "cell_type": "markdown",
      "source": [
        "#Markdownのいろいろな使い方について\n",
        "##Markdownとは\n",
        "文章に見出しや箇条書きなど、文章に簡単に装飾を施すための記述法がMarkdownです。簡単な記述ルールに従って文章を作成するとHTMLへ変換され、装飾が施された文章が出来上がります。HTML（HyperText Markup Language）とは、WEBページを作成するための言語です。\n",
        "##Markdownの使い方\n",
        "###①見出し\n",
        "`#`を文頭につけることで見出しを作ることが出来ます。  \n",
        "`#`の個数で見出しの階層を作ることが出来ます。  \n",
        "`入力例`\n",
        "```\n",
        "#見出し１\n",
        "##見出し２\n",
        "###見出し３\n",
        "####見出し４\n",
        "```\n",
        "`表示結果`\n",
        "#見出し１\n",
        "##見出し２\n",
        "###見出し３\n",
        "####見出し４\n",
        "\n",
        "###②改行\n",
        "文末に半角スペースを二個入れると改行できます。  \n",
        "`入力例`\n",
        "```\n",
        "改  \n",
        "行\n",
        "```\n",
        "`表示結果`  \n",
        "改  \n",
        "行  \n",
        "\n",
        "###③リスト（箇条書き）\n",
        "先頭に`-`をつけることで、箇条書きを表現することができます。また半角スペース2つを加えることで、階層構造を示すことできます。\n",
        "\n",
        "`入力例`\n",
        "```\n",
        "- A\n",
        "  - a1\n",
        "- B\n",
        "  - b1\n",
        "  - b2\n",
        "- C  \n",
        "```\n",
        "`表示結果`\n",
        "- A\n",
        "  - a1\n",
        "- B\n",
        "  - b1\n",
        "  - b2\n",
        "- C  \n",
        "\n",
        "\n",
        "\n"
      ],
      "metadata": {
        "id": "C3NzzaK291mU"
      }
    }
  ]
}