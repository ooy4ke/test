{
  "nbformat": 4,
  "nbformat_minor": 0,
  "metadata": {
    "colab": {
      "provenance": [],
      "authorship_tag": "ABX9TyP5RJfjTqfvwUj9rHy+4/Yd",
      "include_colab_link": true
    },
    "kernelspec": {
      "name": "python3",
      "display_name": "Python 3"
    },
    "language_info": {
      "name": "python"
    }
  },
  "cells": [
    {
      "cell_type": "markdown",
      "metadata": {
        "id": "view-in-github",
        "colab_type": "text"
      },
      "source": [
        "<a href=\"https://colab.research.google.com/github/ooy4ke/test/blob/main/Untitled4.ipynb\" target=\"_parent\"><img src=\"https://colab.research.google.com/assets/colab-badge.svg\" alt=\"Open In Colab\"/></a>"
      ]
    },
    {
      "cell_type": "markdown",
      "source": [
        "#Disicordを作るには\n",
        "\n",
        "##Discordを構成する情報\n",
        "\n",
        "###基本情報\n",
        "\n",
        "discordにもともと備えられている情報のことを基本情報ということにする。基本情報には下のようなものがある。\n",
        "\n",
        "- ログインやチャットなどの画面\n",
        "- 文字や音声、ファイルなどを入力する機能\n",
        "- コマンドやメンション機能、markdownによる記法  \n",
        "- それぞれのチャンネルごとの機能  \n",
        "など\n",
        "<br><br>\n",
        "\n",
        "\n",
        "###ユーザー情報\n",
        "discord側が持っているユーザーに関する情報をユーザー情報ということにする。ユーザー情報は下のようなものがある。\n",
        " <br><br>\n",
        "\n",
        "\n",
        "1. 個人情報  \n",
        "  discord側が持っている個人個人の情報を個人情報ということにする。この個人情報は下のようなものがある。\n",
        "  - ユーザーの名前\n",
        "  - 入っているサーバー\n",
        "  - フレンド\n",
        "  - ユーザーのアイコン  \n",
        "  - パスワード\n",
        "  - メールアドレス  \n",
        "   など\n",
        "  <br><br>\n",
        "\n",
        "\n",
        "\n",
        "\n",
        "2. サーバー情報  \n",
        "discord側が持っているサーバーに関する情報をサーバー情報ということにする。このサーバー情報には下のようなものがある。\n",
        " - サーバーの名前\n",
        " - サーバーに属しているユーザーとそれに関する情報（名前、アイコン、ロールなど）\n",
        " - サーバーのアイコン\n",
        " - チャンネルに関する情報\n",
        " - サーバーに入っているbot  \n",
        " - チャットの履歴  \n",
        " など\n",
        "<br><br>\n",
        "\n",
        "\n",
        "\n",
        "###入力情報  \n",
        "ユーザーが入力する情報を入力情報とする。入力情報には下のようなものがある。\n",
        "- 入力された文字に関する情報\n",
        "- 入力された音声に関する情報\n",
        "- 入力されたファイルに関する情報  \n",
        "など\n",
        "<br><br>\n",
        "\n",
        "\n",
        "\n",
        "\n",
        "##Discordの画面はどう作られるか\n",
        "1. ログイン  \n",
        "\n",
        "\n",
        "まず基本情報によりログイン画面が作られ、\n",
        "![①](https://drive.google.com/uc?export=view&id=1m_YMM9ePTmnuEhbra_Ae8vG-ZaTQr7qh)\n",
        "\n",
        "\n",
        "そこにユーザーがメールアドレス、パスワードを入力する。\n",
        "![②](https://drive.google.com/uc?export=view&id=1vvb_CzyuLYVI29kA81O1QGAkhv_Yz77R)\n",
        "\n",
        "\n",
        "ここでdiscordの持つ個人情報と照会して、ユーザーごとに画面を表示する。\n",
        "![③](https://drive.google.com/uc?export=view&id=1sErq8J-pouX4PYxXrebQliUculMP6g70)\n",
        "\n",
        "\n",
        "2. チャット\n",
        "\n",
        "ユーザーの入力情報がdiscordを介してほかのユーザーに出力される。\n",
        "![③](https://drive.google.com/uc?export=view&id=1s8lo7xNbeUYltmkHaSDjQPUpo4J39R5Z)\n"
      ],
      "metadata": {
        "id": "pu9nzCVmjKbl"
      }
    }
  ]
}