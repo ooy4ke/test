{
  "nbformat": 4,
  "nbformat_minor": 0,
  "metadata": {
    "colab": {
      "provenance": [],
      "authorship_tag": "ABX9TyMkg+mjpOIdST5dofRuigOw",
      "include_colab_link": true
    },
    "kernelspec": {
      "name": "python3",
      "display_name": "Python 3"
    },
    "language_info": {
      "name": "python"
    }
  },
  "cells": [
    {
      "cell_type": "markdown",
      "metadata": {
        "id": "view-in-github",
        "colab_type": "text"
      },
      "source": [
        "<a href=\"https://colab.research.google.com/github/ooy4ke/test/blob/main/Untitled4.ipynb\" target=\"_parent\"><img src=\"https://colab.research.google.com/assets/colab-badge.svg\" alt=\"Open In Colab\"/></a>"
      ]
    },
    {
      "cell_type": "code",
      "execution_count": null,
      "metadata": {
        "id": "PW0RQXuhjJCL"
      },
      "outputs": [],
      "source": []
    },
    {
      "cell_type": "markdown",
      "source": [
        "#Disicordを作るのに必要な情報  \n",
        "\n",
        "1. 個人情報  \n",
        "個人情報をを管理することでユーザー同士の区別をつけることが出来る。そのため、次のような個人情報が必要になると考える。\n",
        "- ユーザー名\n",
        "- パスワード\n",
        "- メールアドレス\n",
        "\n",
        "2.\n"
      ],
      "metadata": {
        "id": "pu9nzCVmjKbl"
      }
    }
  ]
}